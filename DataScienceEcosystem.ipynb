{
  "cells": [
    {
      "cell_type": "markdown",
      "metadata": {
        "id": "xy-wayKH7T7X"
      },
      "source": [
        "<center>\n",
        "    <img src=\"https://cf-courses-data.s3.us.cloud-object-storage.appdomain.cloud/IBMDeveloperSkillsNetwork-DS0105EN-SkillsNetwork/labs/Module2/images/SN_web_lightmode.png\" width=\"300\" alt=\"cognitiveclass.ai logo\">\n",
        "</center>\n"
      ]
    },
    {
      "cell_type": "markdown",
      "source": [
        "#Data Science Tools and Ecosystem"
      ],
      "metadata": {
        "id": "icGV9CWF07z6"
      }
    },
    {
      "cell_type": "markdown",
      "source": [
        "In this notebook, Data Science Tools and Ecosystem are summarized.\n",
        "I am very happy to introduce you the right tools and environment for data science.\n",
        "I hope it is useful for you."
      ],
      "metadata": {
        "id": "Y2tc8Q_T1D7a"
      }
    },
    {
      "cell_type": "markdown",
      "source": [
        "- Some of the popular languages that Data Scientists use are:\n",
        "  * Python\n",
        "  * R Language\n",
        "  * SQL"
      ],
      "metadata": {
        "id": "4WOdJT732DUj"
      }
    },
    {
      "cell_type": "markdown",
      "source": [
        "**Objectives:** \n",
        "  * 1 Cite popular open source, commercial, and cloud-based tools used by data scientists\n",
        "  * 2 Explain the function of an API and list some common API-related terms.\n",
        "  * 3 Discuss the characteristics of a dataset and the ways data can be structured.\n",
        "  * 4 Identify  some of the libraries used in data science and the types of functionalities a library can provide.\n",
        "  * 5 Compare and contrast between machine learning, deep learning and their use cases.\n",
        "  * 6 Discuss the different classes of machine learning models.\n",
        "\n",
        "\n"
      ],
      "metadata": {
        "id": "QNFSa4q-DWRe"
      }
    },
    {
      "cell_type": "markdown",
      "source": [
        "Some of the commonly used libraries used by Data Scientists include:\n",
        "  * brain.js\n",
        "  * Pandas\n",
        "  * NumPy\n",
        "  * SciPy\n",
        "  * Matplotlib"
      ],
      "metadata": {
        "id": "4C4yDH0k20UF"
      }
    },
    {
      "cell_type": "markdown",
      "source": [
        "#Data Science Tools\n",
        "|data scince tools name|\n",
        "|----------------------|\n",
        "|Ceph|\n",
        "|MySQL |\n",
        "|PostgreSQL|\n"
      ],
      "metadata": {
        "id": "JbxoVcHM3zIO"
      }
    },
    {
      "cell_type": "markdown",
      "source": [
        "###Below are a few examples of evaluating arithmetic expressions in Python:\n",
        "| Operators | Syntax | Functioning |\n",
        "|-----------|--------|-------------|\n",
        "| +|x + y\t | Addition|\n",
        "|– |x – y\t | Subtraction|\n",
        "|* | x * y\t|Multiplication |\n",
        "|/ | x / y\t|Division |\n",
        "|//\t |x // y\t | Quotient|\n",
        "| ** | x ** y\t|Exponentiation |\n",
        "\n",
        "\n",
        "\n"
      ],
      "metadata": {
        "id": "xyqeuQGs6Vt-"
      }
    },
    {
      "cell_type": "code",
      "source": [
        "x=3\n",
        "y=4\n",
        "z=5\n",
        "print((x*y)+z)"
      ],
      "metadata": {
        "colab": {
          "base_uri": "https://localhost:8080/"
        },
        "id": "Tjv397dP8UQW",
        "outputId": "9d17fda8-469a-403d-bc22-1586b3a3ff66"
      },
      "execution_count": 1,
      "outputs": [
        {
          "output_type": "stream",
          "name": "stdout",
          "text": [
            "17\n"
          ]
        }
      ]
    },
    {
      "cell_type": "code",
      "source": [
        "#This will convert 200 minutes to hours by diving by 60\n",
        "total_minutes = 200\n",
        "\n",
        "# Get hours with floor division\n",
        "hours = total_minutes // 60\n",
        "\n",
        "# Get additional minutes with modulus\n",
        "minutes = total_minutes % 60\n",
        "\n",
        "# Create time as a string\n",
        "time_string = \"{}:{}\".format(hours, minutes)\n",
        "\n",
        "print(time_string) # Prints '3:20' in this example"
      ],
      "metadata": {
        "colab": {
          "base_uri": "https://localhost:8080/"
        },
        "id": "iT-mU7YRB75p",
        "outputId": "59dfd2e0-ab9e-4768-bb86-2b758c4e8558"
      },
      "execution_count": 10,
      "outputs": [
        {
          "output_type": "stream",
          "name": "stdout",
          "text": [
            "3:20\n"
          ]
        }
      ]
    },
    {
      "cell_type": "markdown",
      "source": [
        "##Author:\n",
        "## Ali Mansouri"
      ],
      "metadata": {
        "id": "5BFUtfCLC1WM"
      }
    }
  ],
  "metadata": {
    "kernelspec": {
      "display_name": "Python",
      "language": "python",
      "name": "conda-env-python-py"
    },
    "language_info": {
      "name": ""
    },
    "colab": {
      "provenance": []
    }
  },
  "nbformat": 4,
  "nbformat_minor": 0
}